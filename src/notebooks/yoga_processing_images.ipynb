{
 "cells": [
  {
   "cell_type": "markdown",
   "source": [
    "# How to process images\n",
    "\n",
    "For this notebook to work, one need to download yoga pose dataset from link specified in README.md\n",
    "\n",
    "folder structure should be as following:\n",
    "\n",
    "/data\n",
    "- /yoga\n",
    "    - /DATASET <- here is downloaded dataset\n",
    "        - /TRAIN\n",
    "        - /TEST\n",
    "    - /PROCESSED <- this folder will contain generated images\n",
    "    - /yoga.csv <- this file will contain informations about generated images"
   ],
   "metadata": {
    "collapsed": false
   }
  },
  {
   "cell_type": "code",
   "execution_count": 1,
   "outputs": [],
   "source": [
    "import PIL.Image\n",
    "import numpy as np\n",
    "from PIL import Image\n",
    "import pandas as pd\n",
    "import os\n",
    "\n",
    "Image.LOAD_TRUNCATED_IMAGES = True"
   ],
   "metadata": {
    "collapsed": false
   }
  },
  {
   "cell_type": "code",
   "execution_count": 2,
   "outputs": [],
   "source": [
    "PATH = '../../data/yoga'\n",
    "DATASET_PATH = PATH + \"/DATASET\"\n",
    "PROCESSED_PATH = PATH + \"/PROCESSED\""
   ],
   "metadata": {
    "collapsed": false
   }
  },
  {
   "cell_type": "markdown",
   "source": [
    "# Load every image location from dataset to pandas dataframe so information about split is persisted"
   ],
   "metadata": {
    "collapsed": false
   }
  },
  {
   "cell_type": "code",
   "execution_count": 3,
   "outputs": [],
   "source": [
    "yoga_df = pd.DataFrame(columns=['original_name', 'processed_name', 'original_path', 'processed_path', 'test_train', 'class'])"
   ],
   "metadata": {
    "collapsed": false
   }
  },
  {
   "cell_type": "code",
   "execution_count": 4,
   "outputs": [
    {
     "name": "stderr",
     "output_type": "stream",
     "text": [
      "C:\\Users\\Jakub\\PycharmProjects\\analiza-obrazow-cyfrowych-projekt\\venv\\lib\\site-packages\\PIL\\Image.py:979: UserWarning: Palette images with Transparency expressed in bytes should be converted to RGBA images\n",
      "  warnings.warn(\n",
      "C:\\Users\\Jakub\\PycharmProjects\\analiza-obrazow-cyfrowych-projekt\\venv\\lib\\site-packages\\PIL\\Image.py:979: UserWarning: Palette images with Transparency expressed in bytes should be converted to RGBA images\n",
      "  warnings.warn(\n",
      "C:\\Users\\Jakub\\PycharmProjects\\analiza-obrazow-cyfrowych-projekt\\venv\\lib\\site-packages\\PIL\\Image.py:979: UserWarning: Palette images with Transparency expressed in bytes should be converted to RGBA images\n",
      "  warnings.warn(\n",
      "C:\\Users\\Jakub\\PycharmProjects\\analiza-obrazow-cyfrowych-projekt\\venv\\lib\\site-packages\\PIL\\Image.py:979: UserWarning: Palette images with Transparency expressed in bytes should be converted to RGBA images\n",
      "  warnings.warn(\n",
      "C:\\Users\\Jakub\\PycharmProjects\\analiza-obrazow-cyfrowych-projekt\\venv\\lib\\site-packages\\PIL\\Image.py:979: UserWarning: Palette images with Transparency expressed in bytes should be converted to RGBA images\n",
      "  warnings.warn(\n"
     ]
    },
    {
     "name": "stdout",
     "output_type": "stream",
     "text": [
      "TRAIN tree 00000114.jpg image file is truncated (5 bytes not processed)\n"
     ]
    },
    {
     "name": "stderr",
     "output_type": "stream",
     "text": [
      "C:\\Users\\Jakub\\PycharmProjects\\analiza-obrazow-cyfrowych-projekt\\venv\\lib\\site-packages\\PIL\\Image.py:979: UserWarning: Palette images with Transparency expressed in bytes should be converted to RGBA images\n",
      "  warnings.warn(\n"
     ]
    }
   ],
   "source": [
    "if os.path.exists(DATASET_PATH) and not os.path.exists(PROCESSED_PATH):\n",
    "    if not os.path.exists(PROCESSED_PATH):\n",
    "        os.mkdir(PROCESSED_PATH)\n",
    "\n",
    "    for split_subfolder in os.listdir(DATASET_PATH):\n",
    "        for pose_subfolder in os.listdir(DATASET_PATH + \"/\" + split_subfolder):\n",
    "            file_index = 0\n",
    "            for file in os.listdir(DATASET_PATH + \"/\" + split_subfolder + \"/\" + pose_subfolder):\n",
    "                try:\n",
    "                    new_file_name = pose_subfolder + \"_\" + str(file_index)\n",
    "                    new_file_loc = PROCESSED_PATH + \"/\" + new_file_name\n",
    "\n",
    "                    im = Image.open(DATASET_PATH + \"/\" + split_subfolder + \"/\" + pose_subfolder + \"/\" + file)\n",
    "                    im = im.convert('RGB')\n",
    "                    im = im.resize((256, 256), resample=1)\n",
    "                    im.save(new_file_loc + \".jpg\")\n",
    "\n",
    "                    yoga_df.loc[len(yoga_df)] = [\n",
    "                        file,\n",
    "                        new_file_name + '.jpg',\n",
    "                        DATASET_PATH + \"/\" + split_subfolder + \"/\" + pose_subfolder + \"/\" + file,\n",
    "                        new_file_loc + '.jpg',\n",
    "                        split_subfolder,\n",
    "                        pose_subfolder\n",
    "                    ]\n",
    "\n",
    "                    new_file_name_flip = new_file_name + \"_flipped\" + \".jpg\"\n",
    "                    new_file_loc_flip = PROCESSED_PATH + \"/\" + new_file_name + \".jpg\"\n",
    "\n",
    "                    im2 = im.transpose(0)\n",
    "                    im2.save(new_file_loc_flip)\n",
    "\n",
    "                    yoga_df.loc[len(yoga_df)] = [\n",
    "                        file,\n",
    "                        new_file_name_flip,\n",
    "                        DATASET_PATH + \"/\" + split_subfolder + \"/\" + pose_subfolder + \"/\" + file,\n",
    "                        new_file_loc_flip,\n",
    "                        split_subfolder,\n",
    "                        pose_subfolder\n",
    "                    ]\n",
    "                    #\n",
    "                    # for i in range(-20, 20, 5):\n",
    "                    #     if i == 0:\n",
    "                    #         continue\n",
    "                    #     new_file_name_rot = new_file_name + \"_rot_\" + str(i) + \".jpg\"\n",
    "                    #     new_file_loc_rot = PROCESSED_PATH + \"/\" + new_file_name + \"_rot_\" + str(i) + \".jpg\"\n",
    "                    #\n",
    "                    #     im_rot = im.rotate(i, resample=0, expand = 0, fillcolor=tuple(np.mean(np.array(im)[0,:], axis=0).astype(int)))\n",
    "                    #     im_rot.save(new_file_loc_rot)\n",
    "                    #\n",
    "                    #     yoga_df.loc[len(yoga_df)] = [\n",
    "                    #         file,\n",
    "                    #         new_file_name_rot,\n",
    "                    #         DATASET_PATH + \"/\" + split_subfolder + \"/\" + pose_subfolder + \"/\" + file,\n",
    "                    #         new_file_loc_rot,\n",
    "                    #         split_subfolder,\n",
    "                    #         pose_subfolder\n",
    "                    #     ]\n",
    "                    #\n",
    "                    # for i in range(-20, 20, 5):\n",
    "                    #     if i == 0:\n",
    "                    #         continue\n",
    "                    #     new_file_name_rot = new_file_name + \"_flipped\" + \"_rot_\" + str(i) + \".jpg\"\n",
    "                    #     new_file_loc_rot = PROCESSED_PATH + \"/\" + new_file_name + \"_flipped\" + \"_rot_\" + str(i) + \".jpg\"\n",
    "                    #\n",
    "                    #     im_rot = im2.rotate(i, resample=0, expand = 0, fillcolor=tuple(np.mean(np.array(im)[0,:], axis=0).astype(int)))\n",
    "                    #     im_rot.save(new_file_loc_rot)\n",
    "                    #\n",
    "                    #     yoga_df.loc[len(yoga_df)] = [\n",
    "                    #         file,\n",
    "                    #         new_file_name_rot,\n",
    "                    #         DATASET_PATH + \"/\" + split_subfolder + \"/\" + pose_subfolder + \"/\" + file,\n",
    "                    #         new_file_loc_rot,\n",
    "                    #         split_subfolder,\n",
    "                    #         pose_subfolder\n",
    "                    #     ]\n",
    "\n",
    "                    file_index += 1\n",
    "                except Exception as error:\n",
    "                    print(split_subfolder, pose_subfolder, file, error)\n",
    "\n"
   ],
   "metadata": {
    "collapsed": false
   }
  },
  {
   "cell_type": "code",
   "execution_count": 5,
   "outputs": [
    {
     "data": {
      "text/plain": "  original_name         processed_name  \\\n0  00000000.jpg          downdog_0.jpg   \n1  00000000.jpg  downdog_0_flipped.jpg   \n2  00000001.JPG          downdog_1.jpg   \n3  00000001.JPG  downdog_1_flipped.jpg   \n4  00000002.jpg          downdog_2.jpg   \n\n                                       original_path  \\\n0  ../../data/yoga/DATASET/TEST/downdog/00000000.jpg   \n1  ../../data/yoga/DATASET/TEST/downdog/00000000.jpg   \n2  ../../data/yoga/DATASET/TEST/downdog/00000001.JPG   \n3  ../../data/yoga/DATASET/TEST/downdog/00000001.JPG   \n4  ../../data/yoga/DATASET/TEST/downdog/00000002.jpg   \n\n                            processed_path test_train    class  \n0  ../../data/yoga/PROCESSED/downdog_0.jpg       TEST  downdog  \n1  ../../data/yoga/PROCESSED/downdog_0.jpg       TEST  downdog  \n2  ../../data/yoga/PROCESSED/downdog_1.jpg       TEST  downdog  \n3  ../../data/yoga/PROCESSED/downdog_1.jpg       TEST  downdog  \n4  ../../data/yoga/PROCESSED/downdog_2.jpg       TEST  downdog  ",
      "text/html": "<div>\n<style scoped>\n    .dataframe tbody tr th:only-of-type {\n        vertical-align: middle;\n    }\n\n    .dataframe tbody tr th {\n        vertical-align: top;\n    }\n\n    .dataframe thead th {\n        text-align: right;\n    }\n</style>\n<table border=\"1\" class=\"dataframe\">\n  <thead>\n    <tr style=\"text-align: right;\">\n      <th></th>\n      <th>original_name</th>\n      <th>processed_name</th>\n      <th>original_path</th>\n      <th>processed_path</th>\n      <th>test_train</th>\n      <th>class</th>\n    </tr>\n  </thead>\n  <tbody>\n    <tr>\n      <th>0</th>\n      <td>00000000.jpg</td>\n      <td>downdog_0.jpg</td>\n      <td>../../data/yoga/DATASET/TEST/downdog/00000000.jpg</td>\n      <td>../../data/yoga/PROCESSED/downdog_0.jpg</td>\n      <td>TEST</td>\n      <td>downdog</td>\n    </tr>\n    <tr>\n      <th>1</th>\n      <td>00000000.jpg</td>\n      <td>downdog_0_flipped.jpg</td>\n      <td>../../data/yoga/DATASET/TEST/downdog/00000000.jpg</td>\n      <td>../../data/yoga/PROCESSED/downdog_0.jpg</td>\n      <td>TEST</td>\n      <td>downdog</td>\n    </tr>\n    <tr>\n      <th>2</th>\n      <td>00000001.JPG</td>\n      <td>downdog_1.jpg</td>\n      <td>../../data/yoga/DATASET/TEST/downdog/00000001.JPG</td>\n      <td>../../data/yoga/PROCESSED/downdog_1.jpg</td>\n      <td>TEST</td>\n      <td>downdog</td>\n    </tr>\n    <tr>\n      <th>3</th>\n      <td>00000001.JPG</td>\n      <td>downdog_1_flipped.jpg</td>\n      <td>../../data/yoga/DATASET/TEST/downdog/00000001.JPG</td>\n      <td>../../data/yoga/PROCESSED/downdog_1.jpg</td>\n      <td>TEST</td>\n      <td>downdog</td>\n    </tr>\n    <tr>\n      <th>4</th>\n      <td>00000002.jpg</td>\n      <td>downdog_2.jpg</td>\n      <td>../../data/yoga/DATASET/TEST/downdog/00000002.jpg</td>\n      <td>../../data/yoga/PROCESSED/downdog_2.jpg</td>\n      <td>TEST</td>\n      <td>downdog</td>\n    </tr>\n  </tbody>\n</table>\n</div>"
     },
     "execution_count": 5,
     "metadata": {},
     "output_type": "execute_result"
    }
   ],
   "source": [
    "yoga_df.head()"
   ],
   "metadata": {
    "collapsed": false
   }
  },
  {
   "cell_type": "code",
   "execution_count": 6,
   "outputs": [],
   "source": [
    "yoga_df.to_csv(PATH + '/yoga.csv')"
   ],
   "metadata": {
    "collapsed": false
   }
  },
  {
   "cell_type": "code",
   "execution_count": 6,
   "outputs": [],
   "source": [],
   "metadata": {
    "collapsed": false
   }
  }
 ],
 "metadata": {
  "kernelspec": {
   "display_name": "Python 3",
   "language": "python",
   "name": "python3"
  },
  "language_info": {
   "codemirror_mode": {
    "name": "ipython",
    "version": 2
   },
   "file_extension": ".py",
   "mimetype": "text/x-python",
   "name": "python",
   "nbconvert_exporter": "python",
   "pygments_lexer": "ipython2",
   "version": "2.7.6"
  }
 },
 "nbformat": 4,
 "nbformat_minor": 0
}
