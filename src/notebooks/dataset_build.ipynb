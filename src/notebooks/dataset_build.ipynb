{
 "cells": [
  {
   "cell_type": "code",
   "execution_count": 1,
   "metadata": {
    "pycharm": {
     "name": "#%%\n"
    }
   },
   "outputs": [],
   "source": [
    "import numpy as np\n",
    "import scipy.io as sio\n",
    "import pandas as pd"
   ]
  },
  {
   "cell_type": "markdown",
   "metadata": {
    "pycharm": {
     "name": "#%% md\n"
    }
   },
   "source": [
    "loading .mat structure dataset"
   ]
  },
  {
   "cell_type": "code",
   "execution_count": 2,
   "metadata": {
    "pycharm": {
     "name": "#%%\n"
    }
   },
   "outputs": [],
   "source": [
    "mat = sio.loadmat('../../data/mpii_human_pose_v1_u12_2/mpii_human_pose_v1_u12_1.mat', struct_as_record=False)"
   ]
  },
  {
   "cell_type": "code",
   "execution_count": 3,
   "metadata": {
    "pycharm": {
     "name": "#%%\n"
    }
   },
   "outputs": [
    {
     "name": "stdout",
     "output_type": "stream",
     "text": [
      "[[<scipy.io.matlab._mio5_params.mat_struct object at 0x000001677F315300>]] <class 'numpy.ndarray'> (1, 1)\n"
     ]
    }
   ],
   "source": [
    "rel = mat['RELEASE']\n",
    "print(rel,type(rel),rel.shape)"
   ]
  },
  {
   "cell_type": "code",
   "execution_count": 4,
   "metadata": {
    "pycharm": {
     "name": "#%%\n"
    }
   },
   "outputs": [
    {
     "name": "stdout",
     "output_type": "stream",
     "text": [
      "['annolist', 'img_train', 'version', 'single_person', 'act', 'video_list']\n"
     ]
    }
   ],
   "source": [
    "obj_rel = rel[0,0]\n",
    "print(obj_rel._fieldnames)"
   ]
  },
  {
   "cell_type": "code",
   "execution_count": 5,
   "metadata": {
    "pycharm": {
     "name": "#%%\n"
    }
   },
   "outputs": [
    {
     "name": "stdout",
     "output_type": "stream",
     "text": [
      "(1, 24987) (1, 24987) (24987, 1)\n"
     ]
    }
   ],
   "source": [
    "annolist = obj_rel.__dict__['annolist']\n",
    "img_tra = obj_rel.__dict__['img_train']\n",
    "act = obj_rel.__dict__['act']\n",
    "print(annolist.shape,img_tra.shape,act.shape)"
   ]
  },
  {
   "cell_type": "code",
   "execution_count": 6,
   "metadata": {
    "pycharm": {
     "name": "#%%\n"
    }
   },
   "outputs": [],
   "source": [
    "n = annolist.shape[1]"
   ]
  },
  {
   "cell_type": "code",
   "execution_count": 7,
   "metadata": {
    "pycharm": {
     "name": "#%%\n"
    }
   },
   "outputs": [
    {
     "name": "stdout",
     "output_type": "stream",
     "text": [
      "['NAME', 'r ankle_X', 'r ankle_Y', 'r knee_X', 'r knee_Y', 'r hip_X', 'r hip_Y', 'l hip_X', 'l hip_Y', 'l knee_X', 'l knee_Y', 'l ankle_X', 'l ankle_Y', 'pelvis_X', 'pelvis_Y', 'thorax_X', 'thorax_Y', 'upper neck_X', 'upper neck_Y', 'head top_X', 'head top_Y', 'r wrist_X', 'r wrist_Y', 'r elbow_X', 'r elbow_Y', 'r shoulder_X', 'r shoulder_Y', 'l shoulder_X', 'l shoulder_Y', 'l elbow_X', 'l elbow_Y', 'l wrist_X', 'l wrist_Y', 'Scale', 'Activity', 'Category']\n"
     ]
    }
   ],
   "source": [
    "data_arr = ['NAME','r ankle_X','r ankle_Y', 'r knee_X','r knee_Y', 'r hip_X','r hip_Y', 'l hip_X','l hip_Y', 'l knee_X','l knee_Y', 'l ankle_X','l ankle_Y','pelvis_X','pelvis_Y','thorax_X','thorax_Y','upper neck_X','upper neck_Y', 'head top_X','head top_Y', 'r wrist_X','r wrist_Y','r elbow_X','r elbow_Y', 'r shoulder_X','r shoulder_Y','l shoulder_X','l shoulder_Y','l elbow_X','l elbow_Y', 'l wrist_X','l wrist_Y','Scale','Activity','Category']\n",
    "print(data_arr)"
   ]
  },
  {
   "cell_type": "code",
   "execution_count": 8,
   "metadata": {
    "pycharm": {
     "name": "#%%\n"
    }
   },
   "outputs": [],
   "source": [
    "data = pd.DataFrame(columns=data_arr)"
   ]
  },
  {
   "cell_type": "code",
   "execution_count": 9,
   "metadata": {
    "pycharm": {
     "name": "#%%\n"
    }
   },
   "outputs": [
    {
     "name": "stdout",
     "output_type": "stream",
     "text": [
      "100\n",
      "300\n",
      "500\n",
      "600\n",
      "700\n",
      "800\n",
      "1100\n",
      "1200\n",
      "1300\n",
      "1400\n",
      "1500\n",
      "1600\n",
      "1800\n",
      "1900\n",
      "2000\n",
      "2100\n",
      "2400\n",
      "2500\n",
      "2600\n",
      "2700\n",
      "2800\n",
      "2900\n",
      "3100\n",
      "3200\n",
      "3400\n",
      "3500\n",
      "3600\n",
      "3700\n",
      "3800\n",
      "3900\n",
      "4000\n",
      "4100\n",
      "4200\n",
      "4300\n",
      "4400\n",
      "4500\n",
      "4700\n",
      "4800\n",
      "4900\n",
      "5100\n",
      "5500\n",
      "5600\n",
      "5700\n",
      "6000\n",
      "6100\n",
      "6200\n",
      "6600\n",
      "6700\n",
      "6800\n",
      "6900\n",
      "7100\n",
      "7200\n",
      "7300\n",
      "7400\n",
      "7600\n",
      "7700\n",
      "7900\n",
      "8100\n",
      "8300\n",
      "8500\n",
      "8600\n",
      "8800\n",
      "9000\n",
      "9400\n",
      "9500\n",
      "9800\n",
      "10000\n",
      "10100\n",
      "10200\n",
      "10300\n",
      "10400\n",
      "10500\n",
      "10600\n",
      "10700\n",
      "10800\n",
      "11000\n",
      "11100\n",
      "11200\n",
      "11300\n",
      "11400\n",
      "11500\n",
      "11600\n",
      "11800\n",
      "12000\n",
      "12100\n",
      "12300\n",
      "12400\n",
      "12600\n",
      "12700\n",
      "12800\n",
      "12900\n",
      "13000\n",
      "13200\n",
      "13300\n",
      "13400\n",
      "13500\n",
      "13700\n",
      "13800\n",
      "13900\n",
      "14000\n",
      "14400\n",
      "14500\n",
      "14600\n",
      "14800\n",
      "14900\n",
      "15000\n",
      "15100\n",
      "15400\n",
      "15700\n",
      "15800\n",
      "15900\n",
      "16000\n",
      "16200\n",
      "16400\n",
      "16500\n",
      "16600\n",
      "16700\n",
      "16900\n",
      "17100\n",
      "17200\n",
      "17400\n",
      "17500\n",
      "17700\n",
      "17900\n",
      "18000\n",
      "18100\n",
      "18200\n",
      "18400\n",
      "18500\n",
      "18600\n",
      "19200\n",
      "19300\n",
      "19400\n",
      "19500\n",
      "19600\n",
      "19800\n",
      "20100\n",
      "20400\n",
      "20800\n",
      "21000\n",
      "21100\n",
      "21200\n",
      "21300\n",
      "21400\n",
      "21500\n",
      "21600\n",
      "21700\n",
      "21900\n",
      "22000\n",
      "22100\n",
      "22200\n",
      "22400\n",
      "22500\n",
      "22700\n",
      "22800\n",
      "22900\n",
      "23000\n",
      "23100\n",
      "23300\n",
      "23500\n",
      "23600\n",
      "23700\n",
      "23800\n",
      "23900\n",
      "24000\n",
      "24100\n",
      "24300\n",
      "24400\n",
      "24500\n",
      "24700\n",
      "24800\n",
      "24900\n"
     ]
    }
   ],
   "source": [
    "for ix in range(0,annolist.shape[1]):\n",
    "    if img_tra[0,ix] == 0:\n",
    "        continue\n",
    "#     print(ix)\n",
    "    temp_arr = []\n",
    "    obj_list = annolist[0,ix]\n",
    "#     print(obj_list._fieldnames)\n",
    "    obj_act = act[ix,0]\n",
    "    \n",
    "    rect =obj_list.__dict__['annorect']\n",
    "    img_d = obj_list.__dict__['image']\n",
    "    if rect.shape[0] ==0:\n",
    "        continue\n",
    "        \n",
    "    obj_rect = rect[0,0]\n",
    "    obj_img = img_d[0,0]\n",
    "    \n",
    "    \n",
    "    if 'annopoints' not in obj_rect._fieldnames:\n",
    "        continue\n",
    "    \n",
    "    name_d = obj_img.__dict__['name']\n",
    "    name = name_d[0]\n",
    "    temp_arr.append(name)\n",
    "    annopoints = obj_rect.__dict__['annopoints']\n",
    "    if annopoints.shape[0]==0:\n",
    "        continue\n",
    "    obj_points = annopoints[0,0]\n",
    "    points = obj_points.__dict__['point']\n",
    "#     if points.shape[1]!=16:\n",
    "#         continue\n",
    "#     print(points.shape)\n",
    "    cnt = 0\n",
    "    px = 0\n",
    "    \n",
    "    for n in range(0,32):\n",
    "        temp_arr.append(-1)\n",
    "    \n",
    "    \n",
    "    for px in range(0,points.shape[1]):\n",
    "#         print(points.shape)\n",
    "#         print('hello')\n",
    "        po = points[0,px]\n",
    "        po_id = po.__dict__['id']\n",
    "        \n",
    "        po_x = po.__dict__['x']\n",
    "        po_y = po.__dict__['y']\n",
    "        ind = 2*po_id[0][0]+1\n",
    "#         print(ind)\n",
    "        temp_arr[ind] = po_x[0][0]\n",
    "        temp_arr[ind+1] = po_y[0][0]\n",
    "       \n",
    "        \n",
    "        \n",
    "    scale = obj_rect.__dict__['scale']\n",
    "    temp_arr.append(scale[0][0])\n",
    "    \n",
    "    activity = act[ix,0]\n",
    "    \n",
    "    a_n = activity.act_name\n",
    "    c_n = activity.cat_name\n",
    "    \n",
    "    if a_n.shape[0]==0:\n",
    "        temp_arr.append(a_n)\n",
    "    else:\n",
    "        temp_arr.append(activity.act_name[0])\n",
    "    if c_n.shape[0]==0:\n",
    "        temp_arr.append(c_n)\n",
    "    else:\n",
    "        temp_arr.append(activity.cat_name[0])\n",
    "    \n",
    "    temp_data_f = pd.DataFrame([temp_arr],columns=data_arr)\n",
    "    \n",
    "    data = pd.concat([data,temp_data_f]) \n",
    "    \n",
    "    if ix%100==0:\n",
    "        print(ix)\n"
   ]
  },
  {
   "cell_type": "code",
   "execution_count": 31,
   "outputs": [
    {
     "data": {
      "text/plain": "sports                    3450\noccupation                2329\nconditioning exercise     1682\nhome activities           1377\nlawn and garden           1092\nhome repair               1065\nwater activities          1008\nmiscellaneous              741\nwinter activities          740\nfishing and hunting        705\ndancing                    697\nwalking                    577\nmusic playing              534\nbicycling                  516\nrunning                    291\ninactivity quiet/light     185\nreligious activities       120\nself care                   89\ntransportation              87\nvolunteer activities        46\n[]                          41\nName: Category, dtype: int64"
     },
     "execution_count": 31,
     "metadata": {},
     "output_type": "execute_result"
    }
   ],
   "source": [
    "data['Category'].astype(str).value_counts()"
   ],
   "metadata": {
    "collapsed": false,
    "pycharm": {
     "name": "#%%\n"
    }
   }
  },
  {
   "cell_type": "code",
   "execution_count": 24,
   "metadata": {
    "pycharm": {
     "name": "#%%\n"
    }
   },
   "outputs": [
    {
     "data": {
      "text/plain": "yoga, Power                                                                  283\nbicycling, mountain                                                          215\ncooking or food preparation                                                  206\nskiing, downhill                                                             202\nskateboarding                                                                184\n                                                                            ... \nteaching exercise class                                                        1\nmarching, military, no pack                                                    1\nsitting, studying, general, including reading andor writing, light effort      1\nwater jogging                                                                  1\njet skiing, driving, in water                                                  1\nName: Activity, Length: 397, dtype: int64"
     },
     "execution_count": 24,
     "metadata": {},
     "output_type": "execute_result"
    }
   ],
   "source": [
    "data['Activity'].astype(str).value_counts()"
   ]
  },
  {
   "cell_type": "code",
   "execution_count": 29,
   "outputs": [
    {
     "name": "stdout",
     "output_type": "stream",
     "text": [
      "             NAME r ankle_X r ankle_Y r knee_X r knee_Y r hip_X r hip_Y  \\\n",
      "0   080264331.jpg       191       563      435      607     485     311   \n",
      "0   045818689.jpg      1159       601      952      501     793     377   \n",
      "0   048296887.jpg       392       543      537      350     642      84   \n",
      "0   013347997.jpg       853       452      735      315     580     121   \n",
      "0   008060151.jpg       791       597      683      475     896     514   \n",
      "..            ...       ...       ...      ...      ...     ...     ...   \n",
      "0   002944251.jpg      1049       420      863      631    1053     851   \n",
      "0   075338542.jpg       786       882      814      606     690     333   \n",
      "0   097218208.jpg      1242       910     1233      631    1187     314   \n",
      "0   062028701.jpg       995       883     1039      748     961     604   \n",
      "0   085654122.jpg      1048       894     1061      752    1084     597   \n",
      "\n",
      "   l hip_X l hip_Y l knee_X  ... r shoulder_Y l shoulder_X l shoulder_Y  \\\n",
      "0      516     334      452  ...          276          818          268   \n",
      "0      776     441      977  ...          379          501          381   \n",
      "0      698      51      522  ...          280          975          237   \n",
      "0      561     133      688  ...          425          530          415   \n",
      "0      896     520      673  ...          423          623          489   \n",
      "..     ...     ...      ...  ...          ...          ...          ...   \n",
      "0     1053     854      860  ...          854          714          854   \n",
      "0      730     352      854  ...          606          994          606   \n",
      "0     1148     338     1209  ...          456         1480          554   \n",
      "0      967     607     1043  ...          563         1145          689   \n",
      "0     1068     579     1050  ...          391         1080          382   \n",
      "\n",
      "   l elbow_X l elbow_Y l wrist_X l wrist_Y     Scale     Activity  \\\n",
      "0        814       468       789       630  5.867840  yoga, Power   \n",
      "0        557       528       613       688  4.145822  yoga, Power   \n",
      "0        865       413       820       594  6.078447  yoga, Power   \n",
      "0        590       574       638       696  4.259915  yoga, Power   \n",
      "0        634       648       508       630  5.175103  yoga, Power   \n",
      "..       ...       ...       ...       ...       ...          ...   \n",
      "0        888       888       901       711  5.594677  yoga, Power   \n",
      "0        932       767      1012       904  5.435775  yoga, Power   \n",
      "0       1468       711      1478       898  4.951276  yoga, Power   \n",
      "0       1135       787      1126       887  2.207217  yoga, Power   \n",
      "0       1082       277      1084       168  3.009585  yoga, Power   \n",
      "\n",
      "                 Category  \n",
      "0   conditioning exercise  \n",
      "0   conditioning exercise  \n",
      "0   conditioning exercise  \n",
      "0   conditioning exercise  \n",
      "0   conditioning exercise  \n",
      "..                    ...  \n",
      "0   conditioning exercise  \n",
      "0   conditioning exercise  \n",
      "0   conditioning exercise  \n",
      "0   conditioning exercise  \n",
      "0   conditioning exercise  \n",
      "\n",
      "[283 rows x 36 columns]\n"
     ]
    }
   ],
   "source": [
    "print(data.loc[data['Activity'] == 'yoga, Power'])"
   ],
   "metadata": {
    "collapsed": false,
    "pycharm": {
     "name": "#%%\n"
    }
   }
  },
  {
   "cell_type": "code",
   "execution_count": null,
   "outputs": [],
   "source": [],
   "metadata": {
    "collapsed": false,
    "pycharm": {
     "name": "#%%\n"
    }
   }
  },
  {
   "cell_type": "markdown",
   "source": [
    "yoga, Power\n",
    "aerobic, step\n",
    "martial arts, different types\n",
    "calisthenics\n",
    "walking, general\n",
    "\n",
    "bicycling, racing and road\n",
    "bicycling, stationary\n",
    "bicycling, BMX\n",
    "\n",
    "\n"
   ],
   "metadata": {
    "collapsed": false,
    "pycharm": {
     "name": "#%% md\n"
    }
   }
  }
 ],
 "metadata": {
  "kernelspec": {
   "display_name": "Python 3",
   "language": "python",
   "name": "python3"
  },
  "language_info": {
   "codemirror_mode": {
    "name": "ipython",
    "version": 2
   },
   "file_extension": ".py",
   "mimetype": "text/x-python",
   "name": "python",
   "nbconvert_exporter": "python",
   "pygments_lexer": "ipython2",
   "version": "2.7.12"
  }
 },
 "nbformat": 4,
 "nbformat_minor": 2
}
