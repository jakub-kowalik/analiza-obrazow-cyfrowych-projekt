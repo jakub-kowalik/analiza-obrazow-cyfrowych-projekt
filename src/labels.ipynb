{
 "cells": [
  {
   "cell_type": "code",
   "execution_count": 122,
   "metadata": {
    "collapsed": true
   },
   "outputs": [],
   "source": [
    "import scipy"
   ]
  },
  {
   "cell_type": "code",
   "execution_count": 123,
   "outputs": [],
   "source": [
    "mat_file = scipy.io.loadmat('../data/mpii_human_pose_v1_u12_2/mpii_human_pose_v1_u12_1.mat')"
   ],
   "metadata": {
    "collapsed": false
   }
  },
  {
   "cell_type": "code",
   "execution_count": 128,
   "outputs": [
    {
     "data": {
      "text/plain": "array([(array([[(array([[(array(['037454012.jpg'], dtype='<U13'),)]], dtype=[('name', 'O')]), array([[(array([[3.88073395]]), array([[(array([[601]], dtype=uint16), array([[380]], dtype=uint16))]],\n                             dtype=[('x', 'O'), ('y', 'O')]))                                                         ]],\n                     dtype=[('scale', 'O'), ('objpos', 'O')]), array([], shape=(1, 0), dtype=float64), array([], shape=(1, 0), dtype=float64))                                                      ,\n               (array([[(array(['095071431.jpg'], dtype='<U13'),)]], dtype=[('name', 'O')]), array([[(array([[8.07816613]]), array([[(array([[881]], dtype=uint16), array([[394]], dtype=uint16))]],\n                             dtype=[('x', 'O'), ('y', 'O')]))                                                         ,\n                       (array([[8.90412938]]), array([[(array([[338]], dtype=uint16), array([[210]], dtype=uint8))]],\n                             dtype=[('x', 'O'), ('y', 'O')]))                                                        ]],\n                     dtype=[('scale', 'O'), ('objpos', 'O')]), array([], shape=(1, 0), dtype=float64), array([], shape=(1, 0), dtype=float64))                                                      ,\n               (array([[(array(['073199394.jpg'], dtype='<U13'),)]], dtype=[('name', 'O')]), array([[(array([[4.32666153]]), array([[(array([[619]], dtype=uint16), array([[350]], dtype=uint16))]],\n                             dtype=[('x', 'O'), ('y', 'O')]))                                                         ]],\n                     dtype=[('scale', 'O'), ('objpos', 'O')]), array([], shape=(1, 0), dtype=float64), array([], shape=(1, 0), dtype=float64))                                                      ,\n               ...,\n               (array([[(array(['084761779.jpg'], dtype='<U13'),)]], dtype=[('name', 'O')]), array([[(array([[287]], dtype=uint16), array([[130]], dtype=uint8), array([[324]], dtype=uint16), array([[163]], dtype=uint8), array([[(array([[(array([[334]], dtype=uint16), array([[225]], dtype=uint8), array([[6]], dtype=uint8), array([[1]], dtype=uint8)),\n                                       (array([[312]], dtype=uint16), array([[173]], dtype=uint8), array([[7]], dtype=uint8), array([[1]], dtype=uint8)),\n                                       (array([[310.2242]]), array([[165.7604]]), array([[8]], dtype=uint8), array([], shape=(0, 0), dtype=uint8)),\n                                       (array([[300.7758]]), array([[127.2396]]), array([[9]], dtype=uint8), array([], shape=(0, 0), dtype=uint8)),\n                                       (array([[362]], dtype=uint16), array([[350]], dtype=uint16), array([[0]], dtype=uint8), array([[1]], dtype=uint8)),\n                                       (array([[347]], dtype=uint16), array([[297]], dtype=uint16), array([[1]], dtype=uint8), array([[1]], dtype=uint8)),\n                                       (array([[350]], dtype=uint16), array([[224]], dtype=uint8), array([[2]], dtype=uint8), array([[1]], dtype=uint8)),\n                                       (array([[317]], dtype=uint16), array([[226]], dtype=uint8), array([[3]], dtype=uint8), array([[1]], dtype=uint8)),\n                                       (array([[297]], dtype=uint16), array([[290]], dtype=uint16), array([[4]], dtype=uint8), array([[0]], dtype=uint8)),\n                                       (array([[336]], dtype=uint16), array([[312]], dtype=uint16), array([[5]], dtype=uint8), array([[1]], dtype=uint8)),\n                                       (array([[310]], dtype=uint16), array([[192]], dtype=uint8), array([[10]], dtype=uint8), array([[0]], dtype=uint8)),\n                                       (array([[326]], dtype=uint16), array([[186]], dtype=uint8), array([[11]], dtype=uint8), array([[0]], dtype=uint8)),\n                                       (array([[335]], dtype=uint16), array([[168]], dtype=uint8), array([[12]], dtype=uint8), array([[1]], dtype=uint8)),\n                                       (array([[288]], dtype=uint16), array([[177]], dtype=uint8), array([[13]], dtype=uint8), array([[1]], dtype=uint8)),\n                                       (array([[279]], dtype=uint16), array([[199]], dtype=uint8), array([[14]], dtype=uint8), array([[0]], dtype=uint8)),\n                                       (array([[268]], dtype=uint16), array([[194]], dtype=uint8), array([[15]], dtype=uint8), array([[0]], dtype=uint8))]],\n                                     dtype=[('x', 'O'), ('y', 'O'), ('id', 'O'), ('is_visible', 'O')]),)                                                    ]],\n                             dtype=[('point', 'O')]), array([[1.1898773]]), array([[(array([[330]], dtype=uint16), array([[208]], dtype=uint8))]],\n                             dtype=[('x', 'O'), ('y', 'O')]))                                                                                                                                                                                                                    ,\n                       (array([[333]], dtype=uint16), array([[137]], dtype=uint8), array([[361]], dtype=uint16), array([[162]], dtype=uint8), array([[(array([[(array([[391]], dtype=uint16), array([[221]], dtype=uint8), array([[6]], dtype=uint8), array([[1]], dtype=uint8)),\n                                       (array([[365]], dtype=uint16), array([[172]], dtype=uint8), array([[7]], dtype=uint8), array([[0]], dtype=uint8)),\n                                       (array([[356.3796]]), array([[161.2245]]), array([[8]], dtype=uint8), array([], shape=(0, 0), dtype=uint8)),\n                                       (array([[337.6204]]), array([[137.7755]]), array([[9]], dtype=uint8), array([], shape=(0, 0), dtype=uint8)),\n                                       (array([[457]], dtype=uint16), array([[324]], dtype=uint16), array([[0]], dtype=uint8), array([[1]], dtype=uint8)),\n                                       (array([[420]], dtype=uint16), array([[282]], dtype=uint16), array([[1]], dtype=uint8), array([[1]], dtype=uint8)),\n                                       (array([[403]], dtype=uint16), array([[219]], dtype=uint8), array([[2]], dtype=uint8), array([[1]], dtype=uint8)),\n                                       (array([[379]], dtype=uint16), array([[222]], dtype=uint8), array([[3]], dtype=uint8), array([[1]], dtype=uint8)),\n                                       (array([[355]], dtype=uint16), array([[267]], dtype=uint16), array([[4]], dtype=uint8), array([[0]], dtype=uint8)),\n                                       (array([[379]], dtype=uint16), array([[314]], dtype=uint16), array([[5]], dtype=uint8), array([[1]], dtype=uint8)),\n                                       (array([[356]], dtype=uint16), array([[182]], dtype=uint8), array([[10]], dtype=uint8), array([[0]], dtype=uint8)),\n                                       (array([[373]], dtype=uint16), array([[186]], dtype=uint8), array([[11]], dtype=uint8), array([[0]], dtype=uint8)),\n                                       (array([[380]], dtype=uint16), array([[172]], dtype=uint8), array([[12]], dtype=uint8), array([[0]], dtype=uint8)),\n                                       (array([[349]], dtype=uint16), array([[171]], dtype=uint8), array([[13]], dtype=uint8), array([[1]], dtype=uint8)),\n                                       (array([[334]], dtype=uint16), array([[193]], dtype=uint8), array([[14]], dtype=uint8), array([[0]], dtype=uint8)),\n                                       (array([[319]], dtype=uint16), array([[194]], dtype=uint8), array([[15]], dtype=uint8), array([[0]], dtype=uint8))]],\n                                     dtype=[('x', 'O'), ('y', 'O'), ('id', 'O'), ('is_visible', 'O')]),)                                                    ]],\n                             dtype=[('point', 'O')]), array([[0.90087957]]), array([[(array([[372]], dtype=uint16), array([[216]], dtype=uint8))]],\n                             dtype=[('x', 'O'), ('y', 'O')]))                                                                                                                                                                                                                    ,\n                       (array([[400]], dtype=uint16), array([[140]], dtype=uint8), array([[428]], dtype=uint16), array([[168]], dtype=uint8), array([[(array([[(array([[459]], dtype=uint16), array([[224]], dtype=uint8), array([[6]], dtype=uint8), array([[1]], dtype=uint8)),\n                                       (array([[418]], dtype=uint16), array([[177]], dtype=uint8), array([[7]], dtype=uint8), array([[0]], dtype=uint8)),\n                                       (array([[416.7139]]), array([[169.605]]), array([[8]], dtype=uint8), array([], shape=(0, 0), dtype=uint8)),\n                                       (array([[411.2861]]), array([[138.395]]), array([[9]], dtype=uint8), array([], shape=(0, 0), dtype=uint8)),\n                                       (array([[483]], dtype=uint16), array([[292]], dtype=uint16), array([[0]], dtype=uint8), array([[0]], dtype=uint8)),\n                                       (array([[442]], dtype=uint16), array([[259]], dtype=uint16), array([[1]], dtype=uint8), array([[0]], dtype=uint8)),\n                                       (array([[468]], dtype=uint16), array([[221]], dtype=uint8), array([[2]], dtype=uint8), array([[1]], dtype=uint8)),\n                                       (array([[449]], dtype=uint16), array([[226]], dtype=uint8), array([[3]], dtype=uint8), array([[1]], dtype=uint8)),\n                                       (array([[461]], dtype=uint16), array([[271]], dtype=uint16), array([[4]], dtype=uint8), array([[1]], dtype=uint8)),\n                                       (array([[500]], dtype=uint16), array([[315]], dtype=uint16), array([[5]], dtype=uint8), array([[1]], dtype=uint8)),\n                                       (array([[411]], dtype=uint16), array([[187]], dtype=uint8), array([[10]], dtype=uint8), array([[0]], dtype=uint8)),\n                                       (array([[427]], dtype=uint16), array([[193]], dtype=uint8), array([[11]], dtype=uint8), array([[0]], dtype=uint8)),\n                                       (array([[432]], dtype=uint16), array([[175]], dtype=uint8), array([[12]], dtype=uint8), array([[0]], dtype=uint8)),\n                                       (array([[403]], dtype=uint16), array([[179]], dtype=uint8), array([[13]], dtype=uint8), array([[1]], dtype=uint8)),\n                                       (array([[403]], dtype=uint16), array([[205]], dtype=uint8), array([[14]], dtype=uint8), array([[0]], dtype=uint8)),\n                                       (array([[386]], dtype=uint16), array([[198]], dtype=uint8), array([[15]], dtype=uint8), array([[0]], dtype=uint8))]],\n                                     dtype=[('x', 'O'), ('y', 'O'), ('id', 'O'), ('is_visible', 'O')]),)                                                    ]],\n                             dtype=[('point', 'O')]), array([[0.95035151]]), array([[(array([[437]], dtype=uint16), array([[207]], dtype=uint8))]],\n                             dtype=[('x', 'O'), ('y', 'O')]))                                                                                                                                                                                                                    ,\n                       (array([[212]], dtype=uint8), array([[153]], dtype=uint8), array([[244]], dtype=uint8), array([[173]], dtype=uint8), array([[(array([[(array([[263]], dtype=uint16), array([[225]], dtype=uint8), array([[6]], dtype=uint8), array([[1]], dtype=uint8)),\n                                       (array([[233]], dtype=uint8), array([[179]], dtype=uint8), array([[7]], dtype=uint8), array([[0]], dtype=uint8)),\n                                       (array([[232.5023]]), array([[177.4073]]), array([[8]], dtype=uint8), array([], shape=(0, 0), dtype=uint8)),\n                                       (array([[223.4977]]), array([[148.5927]]), array([[9]], dtype=uint8), array([], shape=(0, 0), dtype=uint8)),\n                                       (array([[280]], dtype=uint16), array([[287]], dtype=uint16), array([[1]], dtype=uint8), array([[1]], dtype=uint8)),\n                                       (array([[277]], dtype=uint16), array([[224]], dtype=uint8), array([[2]], dtype=uint8), array([[1]], dtype=uint8)),\n                                       (array([[248]], dtype=uint8), array([[225]], dtype=uint8), array([[3]], dtype=uint8), array([[1]], dtype=uint8)),\n                                       (array([[222]], dtype=uint8), array([[280]], dtype=uint16), array([[4]], dtype=uint8), array([[1]], dtype=uint8)),\n                                       (array([[237]], dtype=uint8), array([[192]], dtype=uint8), array([[10]], dtype=uint8), array([[0]], dtype=uint8)),\n                                       (array([[249]], dtype=uint8), array([[193]], dtype=uint8), array([[11]], dtype=uint8), array([[0]], dtype=uint8)),\n                                       (array([[251]], dtype=uint8), array([[178]], dtype=uint8), array([[12]], dtype=uint8), array([[0]], dtype=uint8)),\n                                       (array([[214]], dtype=uint8), array([[179]], dtype=uint8), array([[13]], dtype=uint8), array([[1]], dtype=uint8)),\n                                       (array([[190]], dtype=uint8), array([[202]], dtype=uint8), array([[14]], dtype=uint8), array([[1]], dtype=uint8)),\n                                       (array([[190]], dtype=uint8), array([[201]], dtype=uint8), array([[15]], dtype=uint8), array([[0]], dtype=uint8))]],\n                                     dtype=[('x', 'O'), ('y', 'O'), ('id', 'O'), ('is_visible', 'O')]),)                                                   ]],\n                             dtype=[('point', 'O')]), array([[0.90566219]]), array([[(array([[230]], dtype=uint8), array([[216]], dtype=uint8))]],\n                             dtype=[('x', 'O'), ('y', 'O')]))                                                                                                                                                                                                                  ,\n                       (array([[0]], dtype=uint8), array([[135]], dtype=uint8), array([[76]], dtype=uint8), array([[216]], dtype=uint8), array([[(array([[(array([[68]], dtype=uint8), array([[416]], dtype=uint16), array([[6]], dtype=uint8), array([[1]], dtype=uint8)),\n                                       (array([[107]], dtype=uint8), array([[413]], dtype=uint16), array([[2]], dtype=uint8), array([[1]], dtype=uint8)),\n                                       (array([[29]], dtype=uint8), array([[419]], dtype=uint16), array([[3]], dtype=uint8), array([[1]], dtype=uint8)),\n                                       (array([[167]], dtype=uint8), array([[342]], dtype=uint16), array([[10]], dtype=uint8), array([[1]], dtype=uint8)),\n                                       (array([[132]], dtype=uint8), array([[316]], dtype=uint16), array([[11]], dtype=uint8), array([[1]], dtype=uint8)),\n                                       (array([[91]], dtype=uint8), array([[237]], dtype=uint8), array([[12]], dtype=uint8), array([[1]], dtype=uint8))]],\n                                     dtype=[('x', 'O'), ('y', 'O'), ('id', 'O'), ('is_visible', 'O')]),)                                                  ]],\n                             dtype=[('point', 'O')]), array([[2.66572917]]), array([[(array([[62]], dtype=uint8), array([[338]], dtype=uint16))]],\n                             dtype=[('x', 'O'), ('y', 'O')]))                                                                                                                                                                                                              ]],\n                     dtype=[('x1', 'O'), ('y1', 'O'), ('x2', 'O'), ('y2', 'O'), ('annopoints', 'O'), ('scale', 'O'), ('objpos', 'O')]), array([[158]], dtype=uint8), array([[793]], dtype=uint16))                                                                                                                                                             ,\n               (array([[(array(['092025825.jpg'], dtype='<U13'),)]], dtype=[('name', 'O')]), array([[(array([[9.88033684]]), array([[(array([[1224]], dtype=uint16), array([[553]], dtype=uint16))]],\n                             dtype=[('x', 'O'), ('y', 'O')]))                                                          ,\n                       (array([[8.61950903]]), array([[(array([[473]], dtype=uint16), array([[587]], dtype=uint16))]],\n                             dtype=[('x', 'O'), ('y', 'O')]))                                                         ]],\n                     dtype=[('scale', 'O'), ('objpos', 'O')]), array([], shape=(1, 0), dtype=float64), array([], shape=(1, 0), dtype=float64))                                                       ,\n               (array([[(array(['053686627.jpg'], dtype='<U13'),)]], dtype=[('name', 'O')]), array([[(array([[8.84412212]]), array([[(array([[1277]], dtype=uint16), array([[681]], dtype=uint16))]],\n                             dtype=[('x', 'O'), ('y', 'O')]))                                                          ,\n                       (array([[8.73336224]]), array([[(array([[526]], dtype=uint16), array([[503]], dtype=uint16))]],\n                             dtype=[('x', 'O'), ('y', 'O')]))                                                         ]],\n                     dtype=[('scale', 'O'), ('objpos', 'O')]), array([], shape=(1, 0), dtype=float64), array([], shape=(1, 0), dtype=float64))                                                       ]],\n             dtype=[('image', 'O'), ('annorect', 'O'), ('frame_sec', 'O'), ('vididx', 'O')]), array([[0, 0, 0, ..., 1, 0, 0]], dtype=uint8), array(['12'], dtype='<U2'), array([[array([[1]], dtype=uint8)],\n              [array([], shape=(0, 1), dtype=uint8)],\n              [array([[1]], dtype=uint8)],\n              ...,\n              [array([[5]], dtype=uint8)],\n              [array([], shape=(0, 1), dtype=uint8)],\n              [array([], shape=(0, 1), dtype=uint8)]], dtype=object), array([[(array([], dtype='<U1'), array([], dtype='<U1'), array([[-1]], dtype=int16))],\n              [(array([], dtype='<U1'), array([], dtype='<U1'), array([[-1]], dtype=int16))],\n              [(array([], dtype='<U1'), array([], dtype='<U1'), array([[-1]], dtype=int16))],\n              ...,\n              [(array(['transportation'], dtype='<U14'), array(['pushing car'], dtype='<U11'), array([[972]], dtype=uint16))],\n              [(array([], dtype='<U1'), array([], dtype='<U1'), array([[-1]], dtype=int16))],\n              [(array([], dtype='<U1'), array([], dtype='<U1'), array([[-1]], dtype=int16))]],\n             dtype=[('cat_name', 'O'), ('act_name', 'O'), ('act_id', 'O')]), array([[array(['-08Vnk8XONY'], dtype='<U11'),\n               array(['-0YdHqlKV8w'], dtype='<U11'),\n               array(['-1nf9pRuuZw'], dtype='<U11'), ...,\n               array(['zvMWkSAcSVc'], dtype='<U11'),\n               array(['zwqQrtD2L84'], dtype='<U11'),\n               array(['zz5DvBqit8A'], dtype='<U11')]], dtype=object))                                                                                                                                                                                                                                                                                           ],\n      dtype=[('annolist', 'O'), ('img_train', 'O'), ('version', 'O'), ('single_person', 'O'), ('act', 'O'), ('video_list', 'O')])"
     },
     "execution_count": 128,
     "metadata": {},
     "output_type": "execute_result"
    }
   ],
   "source": [
    "mat_file['RELEASE'][0]"
   ],
   "metadata": {
    "collapsed": false
   }
  },
  {
   "cell_type": "code",
   "execution_count": 142,
   "outputs": [
    {
     "data": {
      "text/plain": "1"
     },
     "execution_count": 142,
     "metadata": {},
     "output_type": "execute_result"
    }
   ],
   "source": [
    "mat_file['RELEASE'][0]['single_person'][0][3][0].size"
   ],
   "metadata": {
    "collapsed": false
   }
  },
  {
   "cell_type": "code",
   "execution_count": 158,
   "outputs": [
    {
     "data": {
      "text/plain": "array([array([[1],\n              [2]], dtype=uint8)], dtype=object)"
     },
     "execution_count": 158,
     "metadata": {},
     "output_type": "execute_result"
    }
   ],
   "source": [
    "mat_file['RELEASE'][0]['single_person'][0][4]"
   ],
   "metadata": {
    "collapsed": false
   }
  },
  {
   "cell_type": "code",
   "execution_count": 13,
   "outputs": [],
   "source": [
    "anno_list = mat_file['RELEASE'][0]['annolist']"
   ],
   "metadata": {
    "collapsed": false
   }
  },
  {
   "cell_type": "code",
   "execution_count": 14,
   "outputs": [],
   "source": [
    "img_train = mat_file['RELEASE'][0]['img_train']"
   ],
   "metadata": {
    "collapsed": false
   }
  },
  {
   "cell_type": "code",
   "execution_count": 15,
   "outputs": [],
   "source": [
    "acts = mat_file['RELEASE'][0]['act']"
   ],
   "metadata": {
    "collapsed": false
   }
  },
  {
   "cell_type": "code",
   "execution_count": 74,
   "outputs": [
    {
     "data": {
      "text/plain": "'037454012.jpg'"
     },
     "execution_count": 74,
     "metadata": {},
     "output_type": "execute_result"
    }
   ],
   "source": [
    "anno_list[0][0]['image'][0][0]['name'][0][0]"
   ],
   "metadata": {
    "collapsed": false
   }
  },
  {
   "cell_type": "code",
   "execution_count": 77,
   "outputs": [],
   "source": [
    "image_names = [anno[0][0]['name'][0] for anno in anno_list[0][0]['image']]"
   ],
   "metadata": {
    "collapsed": false
   }
  },
  {
   "cell_type": "code",
   "execution_count": 81,
   "outputs": [
    {
     "data": {
      "text/plain": "['037454012.jpg',\n '095071431.jpg',\n '073199394.jpg',\n '059865848.jpg',\n '015601864.jpg',\n '015599452.jpg',\n '005808361.jpg',\n '086617615.jpg',\n '060111501.jpg',\n '070807258.jpg']"
     },
     "execution_count": 81,
     "metadata": {},
     "output_type": "execute_result"
    }
   ],
   "source": [
    "image_names[:10]"
   ],
   "metadata": {
    "collapsed": false
   }
  },
  {
   "cell_type": "code",
   "execution_count": 83,
   "outputs": [],
   "source": [
    "img_train_T = img_train[0].T"
   ],
   "metadata": {
    "collapsed": false
   }
  },
  {
   "cell_type": "code",
   "execution_count": 60,
   "outputs": [
    {
     "data": {
      "text/plain": "'curling'"
     },
     "execution_count": 60,
     "metadata": {},
     "output_type": "execute_result"
    }
   ],
   "source": [
    "acts[0][5]['act_name'][0][0]"
   ],
   "metadata": {
    "collapsed": false
   }
  },
  {
   "cell_type": "code",
   "execution_count": 88,
   "outputs": [],
   "source": [
    "act_names = [act['act_name'][0][0] if act['act_name'][0].size > 0 else None for act in acts[0]]"
   ],
   "metadata": {
    "collapsed": false
   }
  },
  {
   "cell_type": "code",
   "execution_count": 89,
   "outputs": [
    {
     "data": {
      "text/plain": "24987"
     },
     "execution_count": 89,
     "metadata": {},
     "output_type": "execute_result"
    }
   ],
   "source": [
    "len(act_names)"
   ],
   "metadata": {
    "collapsed": false
   }
  },
  {
   "cell_type": "code",
   "execution_count": 90,
   "outputs": [],
   "source": [
    "cat_names = [act['cat_name'][0][0] if act['cat_name'][0].size > 0 else None for act in acts[0]]"
   ],
   "metadata": {
    "collapsed": false
   }
  },
  {
   "cell_type": "code",
   "execution_count": 91,
   "outputs": [
    {
     "data": {
      "text/plain": "[None,\n None,\n None,\n None,\n 'sports',\n 'sports',\n 'sports',\n 'sports',\n 'sports',\n 'sports',\n 'sports',\n None,\n None,\n 'inactivity quiet/light',\n 'inactivity quiet/light',\n 'miscellaneous',\n 'miscellaneous',\n 'miscellaneous',\n 'miscellaneous',\n 'occupation',\n 'occupation',\n 'occupation',\n 'occupation',\n 'occupation',\n 'occupation',\n None,\n None,\n 'occupation',\n 'occupation',\n 'occupation',\n 'occupation',\n 'occupation',\n 'occupation',\n 'occupation',\n 'occupation',\n 'occupation',\n 'occupation',\n 'occupation',\n 'occupation',\n 'occupation',\n 'occupation',\n 'occupation',\n 'water activities',\n None,\n None,\n None,\n 'inactivity quiet/light',\n 'water activities',\n 'water activities',\n 'home activities',\n 'home activities',\n 'home activities',\n 'home activities',\n 'home activities',\n 'home activities',\n 'home activities',\n 'occupation',\n 'home activities',\n 'occupation',\n None,\n None,\n None,\n 'lawn and garden',\n 'lawn and garden',\n 'lawn and garden',\n None,\n None,\n None,\n None,\n 'lawn and garden',\n 'lawn and garden',\n 'lawn and garden',\n 'lawn and garden',\n None,\n None,\n None,\n None,\n None,\n 'miscellaneous',\n 'miscellaneous',\n 'lawn and garden',\n 'lawn and garden',\n None,\n 'miscellaneous',\n 'miscellaneous',\n 'miscellaneous',\n 'miscellaneous',\n 'miscellaneous',\n 'sports',\n 'sports',\n 'sports',\n 'sports',\n 'sports',\n 'religious activities',\n 'religious activities',\n 'religious activities',\n None,\n 'winter activities',\n 'winter activities',\n 'winter activities',\n 'winter activities',\n 'winter activities',\n 'winter activities',\n 'winter activities',\n 'winter activities',\n 'winter activities',\n 'winter activities',\n 'winter activities',\n 'winter activities',\n 'winter activities',\n None,\n 'winter activities',\n 'winter activities',\n 'winter activities',\n 'winter activities',\n 'winter activities',\n 'winter activities',\n 'winter activities',\n 'winter activities',\n 'occupation',\n 'occupation',\n 'sports',\n 'sports',\n 'occupation',\n 'occupation',\n None,\n None,\n 'occupation',\n 'occupation',\n 'occupation',\n 'occupation',\n 'occupation',\n 'occupation',\n 'conditioning exercise',\n 'conditioning exercise',\n 'conditioning exercise',\n 'conditioning exercise',\n 'conditioning exercise',\n 'conditioning exercise',\n 'conditioning exercise',\n 'conditioning exercise',\n 'bicycling',\n 'bicycling',\n 'bicycling',\n 'conditioning exercise',\n 'conditioning exercise',\n 'conditioning exercise',\n 'conditioning exercise',\n 'conditioning exercise',\n 'conditioning exercise',\n 'conditioning exercise',\n 'sports',\n 'sports',\n 'sports',\n 'sports',\n 'sports',\n 'sports',\n 'sports',\n 'sports',\n 'sports',\n None,\n None,\n None,\n None,\n None,\n None,\n 'sports',\n 'sports',\n 'sports',\n None,\n None,\n None,\n 'sports',\n 'sports',\n 'lawn and garden',\n 'lawn and garden',\n 'lawn and garden',\n 'lawn and garden',\n 'lawn and garden',\n 'lawn and garden',\n 'lawn and garden',\n 'lawn and garden',\n None,\n None,\n None,\n None,\n None,\n None,\n 'fishing and hunting',\n 'fishing and hunting',\n 'fishing and hunting',\n 'fishing and hunting',\n 'fishing and hunting',\n 'fishing and hunting',\n None,\n None,\n None,\n None,\n None,\n None,\n None,\n None,\n None,\n None,\n None,\n None,\n 'home activities',\n 'home activities',\n 'home activities',\n 'home activities',\n 'home activities',\n 'home activities',\n 'home activities',\n 'home activities',\n 'home activities',\n 'home activities',\n 'home activities',\n 'home activities',\n 'home activities',\n 'dancing',\n 'dancing',\n 'dancing',\n 'dancing',\n 'dancing',\n 'dancing',\n 'dancing',\n 'dancing',\n 'dancing',\n None,\n 'dancing',\n 'dancing',\n 'dancing',\n 'conditioning exercise',\n 'conditioning exercise',\n 'conditioning exercise',\n 'conditioning exercise',\n 'conditioning exercise',\n 'conditioning exercise',\n 'conditioning exercise',\n 'conditioning exercise',\n 'conditioning exercise',\n None,\n None,\n None,\n None,\n None,\n None,\n None,\n None,\n None,\n None,\n 'conditioning exercise',\n 'conditioning exercise',\n 'conditioning exercise',\n 'conditioning exercise',\n 'conditioning exercise',\n 'conditioning exercise',\n 'conditioning exercise',\n 'conditioning exercise',\n 'conditioning exercise',\n 'conditioning exercise',\n 'conditioning exercise',\n 'conditioning exercise',\n 'conditioning exercise',\n 'conditioning exercise',\n 'miscellaneous',\n 'miscellaneous',\n 'miscellaneous',\n 'miscellaneous',\n 'sports',\n 'sports',\n 'sports',\n 'sports',\n 'sports',\n 'sports',\n 'sports',\n 'sports',\n 'sports',\n 'sports',\n 'sports',\n None,\n None,\n None,\n None,\n 'sports',\n None,\n 'sports',\n 'sports',\n 'sports',\n 'sports',\n 'fishing and hunting',\n 'fishing and hunting',\n None,\n None,\n None,\n None,\n 'fishing and hunting',\n 'fishing and hunting',\n 'fishing and hunting',\n 'fishing and hunting',\n 'fishing and hunting',\n 'fishing and hunting',\n 'fishing and hunting',\n 'fishing and hunting',\n 'fishing and hunting',\n 'fishing and hunting',\n 'fishing and hunting',\n None,\n 'lawn and garden',\n 'lawn and garden',\n 'lawn and garden',\n 'lawn and garden',\n 'miscellaneous',\n 'lawn and garden',\n 'lawn and garden',\n 'miscellaneous',\n 'miscellaneous',\n 'miscellaneous',\n 'water activities',\n 'water activities',\n 'water activities',\n 'water activities',\n 'water activities',\n None,\n None,\n 'water activities',\n 'water activities',\n 'water activities',\n 'water activities',\n 'water activities',\n None,\n None,\n 'water activities',\n 'water activities',\n 'walking',\n 'walking',\n None,\n None,\n 'water activities',\n 'water activities',\n None,\n None,\n 'water activities',\n 'water activities',\n 'bicycling',\n 'bicycling',\n 'bicycling',\n 'bicycling',\n 'bicycling',\n 'bicycling',\n None,\n 'bicycling',\n 'bicycling',\n 'bicycling',\n 'bicycling',\n 'bicycling',\n 'bicycling',\n 'bicycling',\n 'water activities',\n 'water activities',\n None,\n None,\n None,\n None,\n None,\n None,\n 'sports',\n 'sports',\n 'sports',\n None,\n None,\n None,\n 'winter activities',\n 'winter activities',\n 'winter activities',\n 'winter activities',\n 'winter activities',\n 'winter activities',\n 'winter activities',\n 'winter activities',\n 'winter activities',\n 'winter activities',\n 'winter activities',\n 'winter activities',\n 'winter activities',\n 'winter activities',\n 'walking',\n 'walking',\n None,\n None,\n 'sports',\n 'sports',\n None,\n 'sports',\n 'sports',\n 'sports',\n 'sports',\n 'sports',\n 'sports',\n None,\n None,\n 'sports',\n 'sports',\n 'miscellaneous',\n None,\n None,\n None,\n 'conditioning exercise',\n 'conditioning exercise',\n 'conditioning exercise',\n 'conditioning exercise',\n None,\n None,\n None,\n None,\n 'miscellaneous',\n 'miscellaneous',\n 'miscellaneous',\n 'conditioning exercise',\n 'conditioning exercise',\n 'conditioning exercise',\n 'occupation',\n 'occupation',\n None,\n None,\n None,\n 'occupation',\n 'occupation',\n 'occupation',\n 'occupation',\n 'occupation',\n 'occupation',\n 'sports',\n 'sports',\n 'sports',\n 'sports',\n 'sports',\n 'sports',\n 'sports',\n 'sports',\n 'sports',\n 'sports',\n None,\n None,\n 'home activities',\n 'home activities',\n 'home activities',\n 'home activities',\n 'home activities',\n 'home activities',\n 'home activities',\n 'home activities',\n 'home activities',\n 'home activities',\n 'home activities',\n 'winter activities',\n 'winter activities',\n None,\n None,\n None,\n 'lawn and garden',\n 'lawn and garden',\n 'lawn and garden',\n 'conditioning exercise',\n 'conditioning exercise',\n 'miscellaneous',\n 'miscellaneous',\n 'conditioning exercise',\n 'conditioning exercise',\n 'conditioning exercise',\n 'miscellaneous',\n 'miscellaneous',\n None,\n 'running',\n None,\n 'running',\n 'running',\n 'running',\n 'running',\n 'running',\n None,\n 'running',\n 'running',\n 'occupation',\n 'occupation',\n 'occupation',\n 'occupation',\n 'occupation',\n 'occupation',\n 'occupation',\n 'occupation',\n 'occupation',\n 'occupation',\n None,\n None,\n 'self care',\n 'religious activities',\n 'religious activities',\n 'sports',\n 'sports',\n 'sports',\n 'sports',\n 'sports',\n 'sports',\n 'sports',\n 'sports',\n 'sports',\n 'sports',\n 'sports',\n 'sports',\n 'sports',\n 'sports',\n 'sports',\n 'sports',\n 'sports',\n 'sports',\n 'sports',\n 'sports',\n 'sports',\n 'sports',\n None,\n None,\n 'sports',\n 'sports',\n None,\n None,\n 'sports',\n 'sports',\n 'sports',\n 'sports',\n 'sports',\n 'sports',\n 'sports',\n 'sports',\n None,\n None,\n None,\n None,\n None,\n 'sports',\n 'sports',\n 'sports',\n 'sports',\n 'sports',\n 'sports',\n 'sports',\n None,\n None,\n None,\n 'sports',\n 'sports',\n 'sports',\n 'sports',\n 'sports',\n 'sports',\n 'sports',\n 'sports',\n 'sports',\n 'home activities',\n 'home activities',\n None,\n 'home activities',\n 'home activities',\n 'home activities',\n 'home activities',\n 'home activities',\n 'home activities',\n 'home activities',\n None,\n None,\n 'lawn and garden',\n 'lawn and garden',\n 'lawn and garden',\n 'lawn and garden',\n 'lawn and garden',\n 'lawn and garden',\n 'lawn and garden',\n None,\n None,\n 'lawn and garden',\n 'lawn and garden',\n None,\n None,\n None,\n None,\n None,\n 'fishing and hunting',\n 'fishing and hunting',\n 'fishing and hunting',\n 'fishing and hunting',\n 'fishing and hunting',\n 'fishing and hunting',\n 'fishing and hunting',\n 'home activities',\n 'home activities',\n 'home activities',\n 'home activities',\n 'home activities',\n 'home activities',\n 'home activities',\n 'home activities',\n 'home activities',\n 'home activities',\n None,\n None,\n None,\n None,\n None,\n 'home activities',\n 'home activities',\n 'home activities',\n 'home activities',\n 'home activities',\n None,\n None,\n None,\n 'home activities',\n 'home activities',\n 'home activities',\n 'home activities',\n 'home repair',\n 'volunteer activities',\n 'miscellaneous',\n 'inactivity quiet/light',\n None,\n None,\n None,\n None,\n None,\n None,\n None,\n 'self care',\n None,\n None,\n 'winter activities',\n 'winter activities',\n None,\n None,\n 'music playing',\n 'music playing',\n None,\n None,\n 'music playing',\n 'music playing',\n 'music playing',\n 'music playing',\n 'conditioning exercise',\n 'conditioning exercise',\n 'conditioning exercise',\n 'conditioning exercise',\n 'conditioning exercise',\n 'conditioning exercise',\n None,\n 'lawn and garden',\n 'lawn and garden',\n 'lawn and garden',\n 'lawn and garden',\n 'walking',\n None,\n 'home repair',\n 'home repair',\n 'home repair',\n 'home repair',\n 'home repair',\n 'home repair',\n 'home repair',\n 'home repair',\n 'home repair',\n 'home repair',\n 'home repair',\n 'home repair',\n 'home repair',\n 'home repair',\n None,\n None,\n None,\n None,\n None,\n 'transportation',\n 'transportation',\n 'transportation',\n 'occupation',\n 'occupation',\n 'occupation',\n 'occupation',\n 'occupation',\n 'occupation',\n None,\n 'bicycling',\n 'bicycling',\n None,\n None,\n None,\n 'bicycling',\n 'bicycling',\n 'bicycling',\n None,\n None,\n None,\n 'water activities',\n 'water activities',\n 'water activities',\n 'water activities',\n 'water activities',\n 'conditioning exercise',\n 'conditioning exercise',\n None,\n None,\n 'music playing',\n 'music playing',\n 'music playing',\n 'music playing',\n 'music playing',\n 'music playing',\n None,\n None,\n 'music playing',\n None,\n None,\n None,\n None,\n 'religious activities',\n 'religious activities',\n None,\n None,\n None,\n None,\n 'occupation',\n 'occupation',\n 'occupation',\n 'occupation',\n 'occupation',\n None,\n None,\n None,\n None,\n None,\n None,\n None,\n None,\n None,\n None,\n None,\n None,\n None,\n None,\n None,\n None,\n None,\n None,\n None,\n None,\n None,\n None,\n None,\n None,\n None,\n None,\n 'sports',\n 'sports',\n 'sports',\n 'sports',\n 'sports',\n 'sports',\n 'sports',\n 'sports',\n 'sports',\n 'inactivity quiet/light',\n 'miscellaneous',\n 'miscellaneous',\n 'miscellaneous',\n 'occupation',\n 'occupation',\n 'occupation',\n 'occupation',\n 'occupation',\n None,\n 'occupation',\n 'occupation',\n 'occupation',\n 'occupation',\n 'occupation',\n 'occupation',\n 'occupation',\n 'occupation',\n 'occupation',\n 'occupation',\n 'occupation',\n 'occupation',\n 'occupation',\n 'occupation',\n 'occupation',\n 'occupation',\n 'occupation',\n 'occupation',\n 'occupation',\n 'water activities',\n 'water activities',\n 'water activities',\n 'water activities',\n 'water activities',\n None,\n None,\n None,\n None,\n None,\n None,\n None,\n None,\n None,\n None,\n None,\n None,\n None,\n 'walking',\n 'water activities',\n 'miscellaneous',\n 'inactivity quiet/light',\n 'water activities',\n 'water activities',\n 'water activities',\n 'water activities',\n 'miscellaneous',\n 'home activities',\n 'home activities',\n 'home activities',\n 'home activities',\n 'home activities',\n 'occupation',\n 'occupation',\n 'occupation',\n 'occupation',\n 'occupation',\n 'occupation',\n None,\n None,\n None,\n None,\n None,\n None,\n None,\n None,\n 'lawn and garden',\n 'lawn and garden',\n 'lawn and garden',\n 'lawn and garden',\n None,\n None,\n None,\n 'lawn and garden',\n 'miscellaneous',\n 'miscellaneous',\n 'miscellaneous',\n 'miscellaneous',\n 'sports',\n 'religious activities',\n 'religious activities',\n 'religious activities',\n 'religious activities',\n 'religious activities',\n 'religious activities',\n None,\n None,\n 'home activities',\n 'home activities',\n 'winter activities',\n 'winter activities',\n 'winter activities',\n 'winter activities',\n 'winter activities',\n 'winter activities',\n 'winter activities',\n 'winter activities',\n 'winter activities',\n 'winter activities',\n 'winter activities',\n 'winter activities',\n 'winter activities',\n 'winter activities',\n 'winter activities',\n 'winter activities',\n 'winter activities',\n 'winter activities',\n 'winter activities',\n 'winter activities',\n 'winter activities',\n 'winter activities',\n 'winter activities',\n 'winter activities',\n 'winter activities',\n 'winter activities',\n 'winter activities',\n 'winter activities',\n 'winter activities',\n 'winter activities',\n 'winter activities',\n 'winter activities',\n 'winter activities',\n 'winter activities',\n 'winter activities',\n None,\n None,\n None,\n None,\n None,\n None,\n 'winter activities',\n 'winter activities',\n 'winter activities',\n 'winter activities',\n 'winter activities',\n 'winter activities',\n 'winter activities',\n 'winter activities',\n 'winter activities',\n 'winter activities',\n 'winter activities',\n 'winter activities',\n 'winter activities',\n 'winter activities',\n 'winter activities',\n 'winter activities',\n 'winter activities',\n 'winter activities',\n 'winter activities',\n 'winter activities',\n 'winter activities',\n 'winter activities',\n 'winter activities',\n 'winter activities',\n None,\n None,\n None,\n 'winter activities',\n 'winter activities',\n 'winter activities',\n 'winter activities',\n 'winter activities',\n 'winter activities',\n 'winter activities',\n 'winter activities',\n 'winter activities',\n 'winter activities',\n 'occupation',\n 'occupation',\n 'occupation',\n 'occupation',\n 'occupation',\n 'sports',\n 'occupation',\n 'sports',\n 'sports',\n 'occupation',\n 'occupation',\n None,\n None,\n None,\n None,\n None,\n 'occupation',\n 'occupation',\n 'occupation',\n 'occupation',\n 'occupation',\n 'occupation',\n 'occupation',\n 'occupation',\n 'occupation',\n 'occupation',\n 'occupation',\n 'occupation',\n 'occupation',\n 'occupation',\n 'occupation',\n 'conditioning exercise',\n 'conditioning exercise',\n 'conditioning exercise',\n 'conditioning exercise',\n 'conditioning exercise',\n 'bicycling',\n 'bicycling',\n 'conditioning exercise',\n 'sports',\n 'sports',\n 'sports',\n 'sports',\n 'sports',\n 'sports',\n 'sports',\n 'sports',\n 'sports',\n 'sports',\n 'sports',\n 'sports',\n 'sports',\n 'sports',\n 'sports',\n 'sports',\n 'sports',\n 'sports',\n ...]"
     },
     "execution_count": 91,
     "metadata": {},
     "output_type": "execute_result"
    }
   ],
   "source": [
    "cat_names"
   ],
   "metadata": {
    "collapsed": false
   }
  },
  {
   "cell_type": "code",
   "execution_count": 96,
   "outputs": [
    {
     "data": {
      "text/plain": "24987"
     },
     "execution_count": 96,
     "metadata": {},
     "output_type": "execute_result"
    }
   ],
   "source": [
    "anno_list[0].size"
   ],
   "metadata": {
    "collapsed": false
   }
  },
  {
   "cell_type": "code",
   "execution_count": 112,
   "outputs": [],
   "source": [
    "dataset = []\n",
    "n = anno_list[0].size\n",
    "\n",
    "for i in range(n):\n",
    "    dataset.append([image_names[i], act_names[i], cat_names[i], img_train_T[i][0]])"
   ],
   "metadata": {
    "collapsed": false
   }
  },
  {
   "cell_type": "code",
   "execution_count": 113,
   "outputs": [
    {
     "data": {
      "text/plain": "[['037454012.jpg', None, None, 0],\n ['095071431.jpg', None, None, 0],\n ['073199394.jpg', None, None, 0],\n ['059865848.jpg', None, None, 0],\n ['015601864.jpg', 'curling', 'sports', 1],\n ['015599452.jpg', 'curling', 'sports', 1],\n ['005808361.jpg', 'curling', 'sports', 1],\n ['086617615.jpg', 'curling', 'sports', 1],\n ['060111501.jpg', 'curling', 'sports', 1],\n ['070807258.jpg', 'curling', 'sports', 1]]"
     },
     "execution_count": 113,
     "metadata": {},
     "output_type": "execute_result"
    }
   ],
   "source": [
    "dataset[:10]"
   ],
   "metadata": {
    "collapsed": false
   }
  },
  {
   "cell_type": "code",
   "execution_count": 114,
   "outputs": [],
   "source": [
    "import pandas as pd\n",
    "\n",
    "dataset_pd = pd.DataFrame(dataset, columns=['image_name', 'activity_name', 'category_name', 'train'])"
   ],
   "metadata": {
    "collapsed": false
   }
  },
  {
   "cell_type": "code",
   "execution_count": 172,
   "outputs": [
    {
     "data": {
      "text/plain": "yoga, Power                                                                  287\nbicycling, mountain                                                          215\nskiing, downhill                                                             213\ncooking or food preparation                                                  208\nskateboarding                                                                186\n                                                                            ... \nmarching, military, no pack                                                    2\njet skiing, driving, in water                                                  2\nsitting, studying, general, including reading andor writing, light effort      1\nteaching exercise class                                                        1\ntaking medication, sitting or standing                                         1\nName: activity_name, Length: 397, dtype: int64"
     },
     "execution_count": 172,
     "metadata": {},
     "output_type": "execute_result"
    }
   ],
   "source": [
    "dataset_pd['activity_name'].value_counts()"
   ],
   "metadata": {
    "collapsed": false
   }
  },
  {
   "cell_type": "code",
   "execution_count": 167,
   "outputs": [
    {
     "data": {
      "text/plain": "array([], shape=(0, 1), dtype=uint8)"
     },
     "execution_count": 167,
     "metadata": {},
     "output_type": "execute_result"
    }
   ],
   "source": [
    "mat_file['RELEASE'][0]['single_person'][0][1][0]"
   ],
   "metadata": {
    "collapsed": false
   }
  },
  {
   "cell_type": "code",
   "execution_count": 165,
   "outputs": [
    {
     "data": {
      "text/plain": "[1,\n 0,\n 1,\n 1,\n 2,\n 1,\n 0,\n 0,\n 1,\n 0,\n 1,\n 1,\n 1,\n 0,\n 0,\n 0,\n 2,\n 2,\n 0,\n 1,\n 1,\n 1,\n 1,\n 1,\n 1,\n 1,\n 1,\n 1,\n 1,\n 1,\n 1,\n 1,\n 1,\n 1,\n 1,\n 1,\n 1,\n 1,\n 1,\n 1,\n 1,\n 1,\n 0,\n 0,\n 0,\n 0,\n 0,\n 4,\n 1,\n 1,\n 1,\n 1,\n 1,\n 1,\n 1,\n 1,\n 1,\n 1,\n 1,\n 1,\n 1,\n 1,\n 1,\n 1,\n 1,\n 1,\n 1,\n 1,\n 0,\n 0,\n 0,\n 1,\n 0,\n 1,\n 1,\n 1,\n 1,\n 1,\n 2,\n 0,\n 1,\n 0,\n 3,\n 1,\n 1,\n 2,\n 0,\n 2,\n 1,\n 1,\n 1,\n 0,\n 1,\n 2,\n 1,\n 0,\n 2,\n 0,\n 1,\n 1,\n 1,\n 2,\n 1,\n 1,\n 1,\n 1,\n 1,\n 1,\n 1,\n 1,\n 2,\n 1,\n 1,\n 0,\n 1,\n 3,\n 1,\n 1,\n 1,\n 1,\n 1,\n 1,\n 0,\n 1,\n 1,\n 1,\n 1,\n 1,\n 1,\n 1,\n 1,\n 1,\n 1,\n 0,\n 0,\n 1,\n 0,\n 1,\n 2,\n 2,\n 2,\n 1,\n 1,\n 1,\n 1,\n 2,\n 0,\n 2,\n 0,\n 2,\n 1,\n 3,\n 1,\n 1,\n 1,\n 0,\n 1,\n 0,\n 2,\n 3,\n 4,\n 3,\n 0,\n 1,\n 2,\n 2,\n 1,\n 1,\n 1,\n 1,\n 1,\n 1,\n 0,\n 1,\n 1,\n 1,\n 1,\n 1,\n 1,\n 1,\n 1,\n 1,\n 1,\n 2,\n 1,\n 1,\n 0,\n 1,\n 1,\n 0,\n 1,\n 1,\n 1,\n 1,\n 1,\n 0,\n 1,\n 0,\n 0,\n 2,\n 1,\n 0,\n 1,\n 0,\n 0,\n 1,\n 1,\n 1,\n 1,\n 1,\n 1,\n 1,\n 1,\n 1,\n 1,\n 1,\n 1,\n 1,\n 1,\n 0,\n 0,\n 0,\n 0,\n 2,\n 0,\n 0,\n 2,\n 0,\n 2,\n 0,\n 0,\n 0,\n 1,\n 1,\n 1,\n 2,\n 0,\n 2,\n 0,\n 0,\n 1,\n 1,\n 1,\n 1,\n 1,\n 1,\n 1,\n 1,\n 1,\n 1,\n 1,\n 1,\n 1,\n 1,\n 1,\n 1,\n 1,\n 1,\n 1,\n 0,\n 1,\n 1,\n 1,\n 1,\n 1,\n 1,\n 1,\n 1,\n 1,\n 1,\n 3,\n 4,\n 2,\n 2,\n 1,\n 1,\n 1,\n 0,\n 0,\n 0,\n 0,\n 1,\n 2,\n 1,\n 0,\n 1,\n 2,\n 2,\n 0,\n 1,\n 1,\n 1,\n 1,\n 1,\n 1,\n 2,\n 1,\n 1,\n 1,\n 0,\n 2,\n 1,\n 1,\n 1,\n 1,\n 1,\n 0,\n 1,\n 1,\n 1,\n 1,\n 0,\n 2,\n 0,\n 1,\n 0,\n 0,\n 0,\n 1,\n 1,\n 1,\n 1,\n 1,\n 0,\n 0,\n 1,\n 1,\n 1,\n 1,\n 2,\n 2,\n 1,\n 1,\n 1,\n 0,\n 0,\n 0,\n 0,\n 1,\n 1,\n 1,\n 0,\n 0,\n 1,\n 1,\n 1,\n 1,\n 1,\n 2,\n 1,\n 1,\n 2,\n 2,\n 2,\n 0,\n 0,\n 1,\n 0,\n 2,\n 1,\n 1,\n 1,\n 0,\n 2,\n 0,\n 1,\n 0,\n 0,\n 0,\n 0,\n 0,\n 0,\n 0,\n 1,\n 1,\n 1,\n 1,\n 1,\n 1,\n 1,\n 0,\n 1,\n 1,\n 0,\n 0,\n 1,\n 1,\n 1,\n 0,\n 0,\n 1,\n 1,\n 0,\n 1,\n 0,\n 1,\n 1,\n 0,\n 1,\n 0,\n 1,\n 1,\n 1,\n 0,\n 1,\n 1,\n 1,\n 1,\n 1,\n 1,\n 1,\n 1,\n 1,\n 1,\n 1,\n 1,\n 1,\n 1,\n 1,\n 1,\n 1,\n 0,\n 1,\n 1,\n 1,\n 1,\n 1,\n 1,\n 1,\n 1,\n 1,\n 0,\n 1,\n 1,\n 0,\n 0,\n 2,\n 1,\n 0,\n 1,\n 2,\n 1,\n 1,\n 0,\n 0,\n 1,\n 1,\n 1,\n 1,\n 0,\n 1,\n 1,\n 1,\n 1,\n 1,\n 1,\n 1,\n 1,\n 1,\n 1,\n 1,\n 1,\n 1,\n 2,\n 2,\n 1,\n 1,\n 1,\n 1,\n 1,\n 1,\n 1,\n 1,\n 0,\n 0,\n 0,\n 1,\n 1,\n 1,\n 1,\n 1,\n 1,\n 1,\n 0,\n 1,\n 0,\n 0,\n 1,\n 1,\n 1,\n 0,\n 1,\n 1,\n 1,\n 0,\n 1,\n 0,\n 0,\n 1,\n 0,\n 1,\n 2,\n 0,\n 0,\n 0,\n 1,\n 1,\n 1,\n 1,\n 0,\n 1,\n 1,\n 0,\n 1,\n 1,\n 1,\n 1,\n 1,\n 1,\n 1,\n 0,\n 3,\n 1,\n 1,\n 1,\n 1,\n 1,\n 1,\n 1,\n 1,\n 1,\n 1,\n 1,\n 1,\n 3,\n 1,\n 0,\n 2,\n 2,\n 1,\n 1,\n 2,\n 2,\n 0,\n 2,\n 2,\n 2,\n 2,\n 1,\n 2,\n 2,\n 2,\n 1,\n 3,\n 1,\n 0,\n 0,\n 0,\n 1,\n 1,\n 0,\n 0,\n 1,\n 1,\n 0,\n 1,\n 1,\n 2,\n 2,\n 1,\n 2,\n 2,\n 0,\n 2,\n 0,\n 1,\n 1,\n 1,\n 1,\n 1,\n 1,\n 1,\n 0,\n 1,\n 1,\n 1,\n 1,\n 0,\n 1,\n 1,\n 1,\n 1,\n 1,\n 1,\n 0,\n 0,\n 1,\n 0,\n 1,\n 1,\n 1,\n 1,\n 1,\n 1,\n 1,\n 1,\n 0,\n 1,\n 1,\n 0,\n 1,\n 1,\n 1,\n 0,\n 1,\n 1,\n 1,\n 1,\n 1,\n 1,\n 2,\n 0,\n 2,\n 0,\n 0,\n 3,\n 0,\n 1,\n 0,\n 1,\n 1,\n 1,\n 0,\n 1,\n 1,\n 1,\n 1,\n 1,\n 1,\n 0,\n 1,\n 0,\n 2,\n 2,\n 0,\n 1,\n 0,\n 0,\n 0,\n 0,\n 0,\n 2,\n 0,\n 1,\n 0,\n 1,\n 1,\n 1,\n 0,\n 1,\n 1,\n 1,\n 0,\n 1,\n 1,\n 1,\n 0,\n 0,\n 2,\n 1,\n 1,\n 1,\n 0,\n 1,\n 1,\n 2,\n 2,\n 1,\n 1,\n 0,\n 1,\n 2,\n 2,\n 2,\n 2,\n 2,\n 2,\n 1,\n 1,\n 1,\n 0,\n 0,\n 1,\n 1,\n 1,\n 2,\n 1,\n 0,\n 0,\n 0,\n 0,\n 0,\n 0,\n 1,\n 0,\n 1,\n 3,\n 2,\n 0,\n 2,\n 2,\n 1,\n 1,\n 1,\n 1,\n 1,\n 0,\n 1,\n 0,\n 0,\n 1,\n 2,\n 0,\n 0,\n 0,\n 1,\n 0,\n 0,\n 1,\n 1,\n 0,\n 0,\n 1,\n 1,\n 2,\n 0,\n 1,\n 1,\n 1,\n 1,\n 1,\n 1,\n 1,\n 0,\n 1,\n 0,\n 0,\n 1,\n 0,\n 0,\n 1,\n 0,\n 0,\n 0,\n 3,\n 0,\n 0,\n 0,\n 1,\n 2,\n 0,\n 2,\n 1,\n 1,\n 0,\n 1,\n 0,\n 0,\n 0,\n 2,\n 0,\n 1,\n 1,\n 1,\n 1,\n 1,\n 1,\n 1,\n 1,\n 1,\n 1,\n 1,\n 1,\n 1,\n 1,\n 1,\n 1,\n 1,\n 1,\n 1,\n 1,\n 1,\n 1,\n 1,\n 1,\n 1,\n 0,\n 0,\n 0,\n 2,\n 1,\n 0,\n 3,\n 2,\n 3,\n 0,\n 1,\n 1,\n 0,\n 1,\n 1,\n 0,\n 1,\n 0,\n 1,\n 1,\n 0,\n 0,\n 1,\n 0,\n 4,\n 4,\n 0,\n 1,\n 1,\n 1,\n 1,\n 1,\n 1,\n 1,\n 1,\n 1,\n 1,\n 1,\n 1,\n 1,\n 1,\n 1,\n 1,\n 1,\n 1,\n 1,\n 1,\n 1,\n 1,\n 0,\n 1,\n 1,\n 1,\n 0,\n 1,\n 0,\n 1,\n 2,\n 0,\n 1,\n 1,\n 2,\n 0,\n 2,\n 0,\n 0,\n 0,\n 3,\n 0,\n 0,\n 2,\n 2,\n 2,\n 1,\n 0,\n 2,\n 1,\n 2,\n 1,\n 1,\n 3,\n 1,\n 1,\n 0,\n 1,\n 1,\n 1,\n 1,\n 1,\n 1,\n 1,\n 1,\n 1,\n 1,\n 1,\n 1,\n 1,\n 1,\n 1,\n 1,\n 1,\n 1,\n 1,\n 2,\n 0,\n 2,\n 1,\n 2,\n 3,\n 1,\n 2,\n 0,\n 0,\n 2,\n 2,\n 1,\n 2,\n 1,\n 1,\n 1,\n 1,\n 1,\n 1,\n 0,\n 0,\n 1,\n 2,\n 0,\n 0,\n 1,\n 1,\n 0,\n 0,\n 0,\n 1,\n 1,\n 1,\n 1,\n 1,\n 1,\n 3,\n 1,\n 1,\n 1,\n 3,\n 1,\n 1,\n 1,\n 1,\n 1,\n 1,\n 1,\n 1,\n 1,\n 1,\n 1,\n 1,\n 1,\n 1,\n 1,\n 1,\n 1,\n 1,\n 1,\n 1,\n 1,\n 1,\n 1,\n 1,\n 1,\n 1,\n 1,\n 1,\n 1,\n 1,\n 1,\n 1,\n 1,\n 0,\n 3,\n 0,\n 0,\n 0,\n 1,\n 1,\n 1,\n 2,\n 0,\n 1,\n 3,\n 2,\n 3,\n 1,\n 1,\n 1,\n 1,\n 1,\n 1,\n 1,\n 1,\n 3,\n 1,\n 3,\n 0,\n ...]"
     },
     "execution_count": 165,
     "metadata": {},
     "output_type": "execute_result"
    }
   ],
   "source": [
    "[people[0].size for people in mat_file['RELEASE'][0]['single_person'][0]]"
   ],
   "metadata": {
    "collapsed": false
   }
  },
  {
   "cell_type": "code",
   "execution_count": 168,
   "outputs": [],
   "source": [
    "def load_dataset(mat_file):\n",
    "    annotations = mat_file['RELEASE'][0]['annolist']\n",
    "    acts = mat_file['RELEASE'][0]['act']\n",
    "\n",
    "    image_file_names = [anno[0][0]['name'][0] for anno in annotations[0][0]['image']]\n",
    "\n",
    "    img_train = mat_file['RELEASE'][0]['img_train'][0].T\n",
    "\n",
    "    act_names = [act['act_name'][0][0] if act['act_name'][0].size > 0 else None for act in acts[0]]\n",
    "\n",
    "    cat_names = [act['cat_name'][0][0] if act['cat_name'][0].size > 0 else None for act in acts[0]]\n",
    "\n",
    "    person_count = [people[0].size for people in mat_file['RELEASE'][0]['single_person'][0]]\n",
    "\n",
    "    result = []\n",
    "    n = annotations[0].size\n",
    "\n",
    "    for i in range(n):\n",
    "        result.append([image_file_names[i], act_names[i], cat_names[i], img_train_T[i][0], person_count[i]])\n",
    "\n",
    "    return result"
   ],
   "metadata": {
    "collapsed": false
   }
  },
  {
   "cell_type": "code",
   "execution_count": 169,
   "outputs": [],
   "source": [
    "test = load_dataset(mat_file)"
   ],
   "metadata": {
    "collapsed": false
   }
  },
  {
   "cell_type": "code",
   "execution_count": 126,
   "outputs": [
    {
     "data": {
      "text/plain": "24987"
     },
     "execution_count": 126,
     "metadata": {},
     "output_type": "execute_result"
    }
   ],
   "source": [
    "len(test)"
   ],
   "metadata": {
    "collapsed": false
   }
  },
  {
   "cell_type": "code",
   "execution_count": 170,
   "outputs": [
    {
     "data": {
      "text/plain": "[['037454012.jpg', None, None, 0, 1],\n ['095071431.jpg', None, None, 0, 0],\n ['073199394.jpg', None, None, 0, 1],\n ['059865848.jpg', None, None, 0, 1],\n ['015601864.jpg', 'curling', 'sports', 1, 2],\n ['015599452.jpg', 'curling', 'sports', 1, 1],\n ['005808361.jpg', 'curling', 'sports', 1, 0],\n ['086617615.jpg', 'curling', 'sports', 1, 0],\n ['060111501.jpg', 'curling', 'sports', 1, 1],\n ['070807258.jpg', 'curling', 'sports', 1, 0]]"
     },
     "execution_count": 170,
     "metadata": {},
     "output_type": "execute_result"
    }
   ],
   "source": [
    "test[:10]"
   ],
   "metadata": {
    "collapsed": false
   }
  },
  {
   "cell_type": "code",
   "execution_count": null,
   "outputs": [],
   "source": [
    "test_pd = pd.DataFrame"
   ],
   "metadata": {
    "collapsed": false
   }
  }
 ],
 "metadata": {
  "kernelspec": {
   "display_name": "Python 3",
   "language": "python",
   "name": "python3"
  },
  "language_info": {
   "codemirror_mode": {
    "name": "ipython",
    "version": 2
   },
   "file_extension": ".py",
   "mimetype": "text/x-python",
   "name": "python",
   "nbconvert_exporter": "python",
   "pygments_lexer": "ipython2",
   "version": "2.7.6"
  }
 },
 "nbformat": 4,
 "nbformat_minor": 0
}
